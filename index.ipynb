{
 "cells": [
  {
   "cell_type": "code",
   "execution_count": 1,
   "id": "736953a7-49cf-49ae-a372-d800c0f1bbf9",
   "metadata": {},
   "outputs": [],
   "source": [
    "import selenium\n",
    "from config import *\n",
    "from time import sleep\n",
    "from selenium import webdriver\n",
    "from selenium.webdriver.common.by import By\n",
    "from selenium.webdriver.common.keys import Keys\n",
    "from selenium.webdriver.support.ui import WebDriverWait\n",
    "from selenium.webdriver.support import expected_conditions as EC"
   ]
  },
  {
   "cell_type": "code",
   "execution_count": 2,
   "id": "61d8e8e4-0093-4b1e-8069-3687c8a7b306",
   "metadata": {},
   "outputs": [],
   "source": [
    "#Apertura del navegador\n",
    "driver = webdriver.Chrome()\n",
    "driver.get(URL)"
   ]
  },
  {
   "cell_type": "code",
   "execution_count": 3,
   "id": "0ea966ec-7d98-44f2-9d05-ba200f171fdd",
   "metadata": {},
   "outputs": [],
   "source": [
    "#Ingreso al sistema\n",
    "input_username = driver.find_element(By.XPATH, '//input[@placeholder=\"Usuario/Cuil/Cuit\"]')\n",
    "input_password = driver.find_element(By.XPATH, '//input[@placeholder=\"Contraseña\"]')\n",
    "button_loggin  = driver.find_element(By.XPATH, '//button[@class=\"btn btn-default z-button\"]')\n",
    "\n",
    "input_username.send_keys(USERNAME)\n",
    "input_password.send_keys(PASSWORD)\n",
    "button_loggin.click()\n",
    "sleep(3)\n"
   ]
  },
  {
   "cell_type": "code",
   "execution_count": 4,
   "id": "62b9e65f-da1b-4923-b4c3-f0b3d5cabbe1",
   "metadata": {},
   "outputs": [],
   "source": [
    "#Nueva notificación electrónica\n",
    "notificaciones_electronicas = driver.find_element(By.XPATH, '//li[@title=\"Notificaciones Electronicas\"]')\n",
    "notificaciones_electronicas.click()\n",
    "sleep(10)\n",
    "\n",
    "nueva_notificacion = driver.find_element(By.XPATH, '//li[@title=\"Nueva Notificación\"]')\n",
    "nueva_notificacion.click()"
   ]
  },
  {
   "cell_type": "code",
   "execution_count": 5,
   "id": "57cf6c03-1b5c-4724-86f8-396be8e065c7",
   "metadata": {},
   "outputs": [],
   "source": [
    "#Función que ingresa todas las empresas.\n",
    "def add_companies(COMPANIES):\n",
    "    for cuit in COMPANIES.values():\n",
    "        input_cuit = driver.find_element(By.XPATH, '//input[@name=\"cuit1\"]')\n",
    "        input_cuit.send_keys(cuit)\n",
    "        button_search = driver.find_elements(By.XPATH, '//td[@class=\"z-row-inner\"]//button[@class=\"z-button\"]')[0]\n",
    "        button_search.click()\n",
    "        button_add   = driver.find_elements(By.XPATH, '//td[@class=\"z-row-inner\"]//button[@class=\"z-button\"]')[1]\n",
    "        button_add.click()\n",
    "        sleep(1)"
   ]
  },
  {
   "cell_type": "code",
   "execution_count": 6,
   "id": "d2ab98de-9402-453e-9921-79a29b3f42af",
   "metadata": {},
   "outputs": [],
   "source": [
    "#Ejecutar fnción add_companies.\n",
    "add_companies(COMPANIES)\n",
    "sleep(1)"
   ]
  },
  {
   "cell_type": "code",
   "execution_count": 7,
   "id": "985a4128-be14-41a1-8772-eb82f9708e77",
   "metadata": {},
   "outputs": [],
   "source": [
    "#Añadiendo cuerpo\n",
    "header = 'S/Faltante Prueba Python' \n",
    "body   = 'Esta es una prueba automatizada por Python'\n",
    "\n",
    "input_referencia = driver.find_element(By.XPATH, '//div[@class=\"z-hlayout-inner\"]//input[@class=\"z-textbox\"]')\n",
    "input_referencia.send_keys(header)\n",
    "\n",
    "input_cuerpo     = driver.find_element(By.XPATH, '//textarea[@placeholder=\"Ingresar texto de la notificación\"]')\n",
    "input_cuerpo.send_keys(body)\n",
    "\n",
    "button_check     = driver.find_elements(By.XPATH, '//tbody[@class=\"z-rows\"]//tr[@class=\"z-row\"]//td[@class=\"z-row-inner\"]//div[@class=\"z-row-content\"]//div[@class=\"z-hlayout\"]//div[@class=\"z-hlayout-inner\"]//button[@class=\"z-button\"]')[0]\n",
    "button_check.click()\n",
    "\n",
    "#Seleccionando la opción \"Quiero recibir un aviso cuando la tarea se firme\"\n",
    "input_aviso = driver.find_elements(By.XPATH, '//div[@class=\"z-window-content\"]//div[@class=\"z-hlayout\"]//div[@class=\"z-hlayout-inner\"]//input[@type=\"checkbox\"]')[1]\n",
    "input_aviso.click()\n",
    "\n",
    "button_send = driver.find_elements(By.XPATH, '//div[@class=\"z-hlayout\"]//div[@class=\"z-hlayout-inner\"]//button[@class=\"z-button\"]')[9]\n",
    "button_send.click()\n",
    "sleep(2)\n",
    "\n",
    "input_send_username = driver.find_element(By.XPATH, './/input[@placeholder=\"Ingrese el usuario\"]')\n",
    "input_send_username.send_keys('Lucas Marin( MARINL - DGFU )')\n",
    "sleep(4)\n",
    "\n",
    "button_send_notif = driver.find_element(By.XPATH, './/tbody[@class=\"z-rows\"]//tr[@class=\"GridLayoutNoBorder z-row\"]//td[@class=\"z-row-inner\"]//div[@class=\"z-row-content\"]//button[@class=\"z-button\"]')\n",
    "button_send_notif.click()\n",
    "sleep(2)\n",
    "\n",
    "button_ok =  driver.find_element(By.XPATH, './/button[@class=\"z-messagebox-button z-button\"]')\n",
    "button_ok.click()\n"
   ]
  }
 ],
 "metadata": {
  "kernelspec": {
   "display_name": "Python 3 (ipykernel)",
   "language": "python",
   "name": "python3"
  },
  "language_info": {
   "codemirror_mode": {
    "name": "ipython",
    "version": 3
   },
   "file_extension": ".py",
   "mimetype": "text/x-python",
   "name": "python",
   "nbconvert_exporter": "python",
   "pygments_lexer": "ipython3",
   "version": "3.11.4"
  }
 },
 "nbformat": 4,
 "nbformat_minor": 5
}
