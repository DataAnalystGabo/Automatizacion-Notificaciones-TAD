{
 "cells": [
  {
   "cell_type": "code",
   "execution_count": 1,
   "id": "736953a7-49cf-49ae-a372-d800c0f1bbf9",
   "metadata": {},
   "outputs": [],
   "source": [
    "import csv\n",
    "import selenium\n",
    "from config import *\n",
    "from tqdm import tqdm\n",
    "from time import sleep\n",
    "from selenium import webdriver\n",
    "from pywinauto.keyboard import send_keys\n",
    "from pywinauto.application import Application\n",
    "from selenium.webdriver.common.by import By\n",
    "from selenium.webdriver.common.keys import Keys\n",
    "from selenium.webdriver.support.ui import WebDriverWait\n",
    "from selenium.webdriver.support import expected_conditions as EC"
   ]
  },
  {
   "cell_type": "code",
   "execution_count": 2,
   "id": "79e13a43-a7f1-4785-8f57-fcd2f8beb7e8",
   "metadata": {},
   "outputs": [],
   "source": [
    "#---Despliegue del driver-----------------------\n",
    "try:\n",
    "    driver = webdriver.Chrome()\n",
    "    driver.get(URL)\n",
    "except Exception as e:\n",
    "    print(f'Error al desplegar el driver: {e}')"
   ]
  },
  {
   "cell_type": "code",
   "execution_count": 3,
   "id": "0ea966ec-7d98-44f2-9d05-ba200f171fdd",
   "metadata": {},
   "outputs": [],
   "source": [
    "#Función de ingreso al sistema Sade.\n",
    "def login(username, password):\n",
    "    try:\n",
    "        XPATH_INPUT_USERNAME = '//input[@placeholder=\"Usuario/Cuil/Cuit\"]'\n",
    "        XPATH_INPUT_PASSWORD = '//input[@placeholder=\"Contraseña\"]'\n",
    "        XPATH_BUTTON_LOGIN   = '//button[@class=\"btn btn-default z-button\"]'\n",
    "        \n",
    "        input_username = WebDriverWait(driver, 10).until(EC.presence_of_element_located((By.XPATH, XPATH_INPUT_USERNAME)))\n",
    "        input_password = WebDriverWait(driver, 10).until(EC.presence_of_element_located((By.XPATH, XPATH_INPUT_PASSWORD)))\n",
    "        button_loggin  = WebDriverWait(driver, 10).until(EC.presence_of_element_located((By.XPATH, XPATH_BUTTON_LOGIN)))\n",
    "        \n",
    "        input_username.send_keys(username)\n",
    "        input_password.send_keys(password)\n",
    "        \n",
    "        button_loggin.click()\n",
    "    except Exception as e:\n",
    "        print(f'Ocurrió un error al intentar ingresar al sitio {e}')"
   ]
  },
  {
   "cell_type": "code",
   "execution_count": 4,
   "id": "62b9e65f-da1b-4923-b4c3-f0b3d5cabbe1",
   "metadata": {},
   "outputs": [],
   "source": [
    "#Función de nueva notificación electrónica.\n",
    "def new_notification():\n",
    "    try:\n",
    "        XPATH_NOTIFICACTION_ELECTR = '//li[@title=\"Notificaciones Electronicas\"]'\n",
    "        XPATH_NEW_NOTIFICATION     = '//li[@title=\"Nueva Notificación\"]'\n",
    "        \n",
    "        notification_electr        = WebDriverWait(driver, 10).until(EC.presence_of_element_located((By.XPATH, XPATH_NOTIFICACTION_ELECTR)))\n",
    "        notification_electr.click()\n",
    "        \n",
    "        new_notification           = WebDriverWait(driver, 30).until(EC.presence_of_element_located((By.XPATH, XPATH_NEW_NOTIFICATION)))\n",
    "        new_notification.click()\n",
    "    except Exception as e:\n",
    "         print(f'Ocurrió un error al intentar generar una nueva notificación {e}')"
   ]
  },
  {
   "cell_type": "code",
   "execution_count": 5,
   "id": "57cf6c03-1b5c-4724-86f8-396be8e065c7",
   "metadata": {},
   "outputs": [],
   "source": [
    "#Función que ingresa todas las empresas.\n",
    "def add_companies(companies):\n",
    "    \n",
    "    XPATH_INPUT_CUIT    = '//input[@name=\"cuit1\"]'\n",
    "    XPATH_BUTTONS       = '//td[@class=\"z-row-inner\"]//button[@class=\"z-button\"]'\n",
    "    \n",
    "    for razon, cuit in companies.items():\n",
    "        try: \n",
    "            input_cuit    = WebDriverWait(driver, 10).until(EC.presence_of_element_located((By.XPATH, XPATH_INPUT_CUIT)))\n",
    "            input_cuit.send_keys(cuit)\n",
    "            \n",
    "            buttons       = WebDriverWait(driver, 10).until(EC.presence_of_all_elements_located((By.XPATH, XPATH_BUTTONS)))\n",
    "            button_search = buttons[0]\n",
    "            button_search.click()\n",
    "\n",
    "            #Si encontró la empresa, avanzará:\n",
    "            WebDriverWait(driver,10).until(EC.visibility_of_element_located((By.XPATH, f'//span[@class=\"z-label\"][contains(text(), \"{razon}\")]')))\n",
    "            \n",
    "            button_add    = buttons[1]\n",
    "            button_add.click()\n",
    "\n",
    "            #Si se cargó la empresa, avanzará:\n",
    "            WebDriverWait(driver,10).until(EC.visibility_of_element_located((By.XPATH, f'//div[@class=\"z-listcell-content\"][contains(text(), \"{razon}\")]')))\n",
    "                \n",
    "        except Exception as e:\n",
    "            print(f\"Ocurrió un error al intentar agregar la empresa con CUIT {cuit}: {e}\")\n"
   ]
  },
  {
   "cell_type": "code",
   "execution_count": 6,
   "id": "d50a00b2-fc67-496a-8e9b-17bdbda21532",
   "metadata": {},
   "outputs": [],
   "source": [
    "#función que sube el pdf correspondiente.\n",
    "def add_pdf(num_sap):\n",
    "    input_upload_file =  driver.find_elements(By.XPATH, '//span[@class=\"z-radiogroup\"]//span[@class=\"z-radio\"]')[3]\n",
    "    input_upload_file.click()\n",
    "    sleep(1)\n",
    "    \n",
    "    button_add_file = driver.find_elements(By.XPATH, './/i[@class=\"glyphicon glyphicon-plus\"]')[6]\n",
    "    button_add_file.click()\n",
    "    sleep(1)\n",
    "    \n",
    "    app = Application().connect(title_re='Abrir')\n",
    "    path_pdf = fr'C:\\Users\\Usuario\\OneDrive\\Escritorio\\DGFU\\010 - Automatizacion Notificaciones TAD\\resources\\images\\{num_sap}'\n",
    "    app.Abrir.Edit.set_text(path_pdf)\n",
    "    app.Abrir.Edit.type_keys('{ENTER}')"
   ]
  },
  {
   "cell_type": "code",
   "execution_count": 7,
   "id": "007c5733-a830-41f5-a881-2dd207a18b79",
   "metadata": {},
   "outputs": [],
   "source": [
    "def send_notification(user):\n",
    "    #Boton para seleccionar la opción \"Quiero recibir un aviso cuando se firme la tarea\"\n",
    "    XPATH_BUTTON_IWANT   = '//div[@class=\"z-window-content\"]//div[@class=\"z-hlayout\"]//div[@class=\"z-hlayout-inner\"]//input[@type=\"checkbox\"]'\n",
    "    XPATH_BUTTON_SEND    = '//div[@class=\"z-hlayout\"]//div[@class=\"z-hlayout-inner\"]//button[@class=\"z-button\"]'\n",
    "    XPATH_INPUT_USER     = './/input[@placeholder=\"Ingrese el usuario\"]'\n",
    "    XPATH_BUTTON_SEND_OK = './/tbody[@class=\"z-rows\"]//tr[@class=\"GridLayoutNoBorder z-row\"]//td[@class=\"z-row-inner\"]//div[@class=\"z-row-content\"]//button[@class=\"z-button\"]'\n",
    "    XPATH_BUTTON_NEXT    = './/button[@class=\"z-messagebox-button z-button\"]'\n",
    "    \n",
    "    input_aviso = WebDriverWait(driver, 10).until(EC.presence_of_all_elements_located((By.XPATH, XPATH_BUTTON_IWANT)))\n",
    "    input_aviso = input_aviso[1]\n",
    "    input_aviso.click()\n",
    "\n",
    "    button_send = driver.find_elements(By.XPATH, XPATH_BUTTON_SEND)[9]\n",
    "    button_send.click()\n",
    "\n",
    "    input_send_username = WebDriverWait(driver, 10).until(EC.presence_of_element_located((By.XPATH, XPATH_INPUT_USER)))\n",
    "    input_send_username.send_keys(user)\n",
    "\n",
    "    button_send_notif = driver.find_element(By.XPATH, XPATH_BUTTON_SEND_OK)\n",
    "    button_send_notif.click()\n",
    "\n",
    "    button_next =  WebDriverWait(driver, 10).until(EC.presence_of_element_located((By.XPATH, XPATH_BUTTON_NEXT)))\n",
    "    button_next.click()"
   ]
  },
  {
   "cell_type": "code",
   "execution_count": 8,
   "id": "c9efcd79-3a7f-4077-9fe9-58b175c75cf3",
   "metadata": {},
   "outputs": [],
   "source": [
    "#Funcion de envio de notificación por cada posición\n",
    "\n",
    "def app(csv_path):\n",
    "\n",
    "#---Ingreso a GEDO ------------------------------\n",
    "    login(USERNAME, PASSWORD)\n",
    "    \n",
    "#---Nueva notificación---------------------------\n",
    "    new_notification()\n",
    "\n",
    "\n",
    "    \n",
    "    with open(csv_path) as csv_file:\n",
    "        reader = csv.reader(csv_file, delimiter=';')\n",
    "        rows   = list(reader)\n",
    "        \n",
    "        for row in tqdm(rows, desc=\"Enviando notificaciones\"):\n",
    "            num_sap  = row[1]\n",
    "            position = row[2]\n",
    "\n",
    "            add_companies(COMPANIES)\n",
    "            #sleep(0.5)\n",
    "        \n",
    "            #Redactando el título y el cuerpo de la notificación----------------------------------------------------------------------------------------------------------------------------------------------\n",
    "            XPATH_INPUT_TITLE  = '//div[@class=\"z-hlayout-inner\"]//input[@class=\"z-textbox\"]'\n",
    "            XPATH_INPUT_BODY   = '//textarea[@placeholder=\"Ingresar texto de la notificación\"]'\n",
    "            XPATH_BUTTON_CHECK = '//tbody[@class=\"z-rows\"]//tr[@class=\"z-row\"]//td[@class=\"z-row-inner\"]//div[@class=\"z-row-content\"]//div[@class=\"z-hlayout\"]//div[@class=\"z-hlayout-inner\"]//button[@class=\"z-button\"]'\n",
    "            \n",
    "            \n",
    "            input_referencia = driver.find_element(By.XPATH, XPATH_INPUT_TITLE)\n",
    "            input_referencia.send_keys(f\"S/Faltante {position}\")\n",
    "            \n",
    "            input_cuerpo     = driver.find_element(By.XPATH, XPATH_INPUT_BODY)\n",
    "            input_cuerpo.send_keys(f\"Por medio de la presente se lo intima a que en el plazo de 72 horas hábiles, desde recibida esta intimación, verifique e informe, conforme Articulo 5 de la Ley 4760, si la anomalía detectada sobre {position}, correspondiente a una cámara con tapa faltante sobre la acera), pertenece a la infraestructura de su empresa. En caso de corresponder, se lo intima en un plazo de 5 días hábiles a proceder a la reposición de tapa y/o anulación de la misma según corresponda, bajo el apercibimiento de aplicar el régimen sancionatorio previstas en la materia en el Régimen de Faltas de la Ciudad Autónoma de Buenos Aires (Ley N° 451). \\n\\n Asimismo, se lo intima a que en igual plazo presente formal descargo con muestras fotográficas en las que se verifique el cumplimiento de lo intimado en el primer párrafo de esta notificación ante la oficina de la Dirección General sita en Av. Martin García 346, 3°piso, en el horario de 10 a 15 hs o, mediante el correo electrónico de la Mesa de Entradas virtual mesaentrada.ssmaurb@buenosaires.gob.ar y gonzalogabrielramirez@buenosaires.gob.ar, todo ello, bajo apercibimiento de proceder al labrado de las correspondientes actas de comprobación, remoción y anulación de las instalaciones descriptas como irregulares. \\n\\n Se hace constar que el riesgo a terceros derivado de las instalaciones en deficiente estado habilita a esta dirección general a proceder cautelarmente respecto de las mismas, tomando la intervención física necesaria.\")\n",
    "            \n",
    "            button_check     = driver.find_elements(By.XPATH, XPATH_BUTTON_CHECK)[0]\n",
    "            button_check.click()\n",
    "\n",
    "            #Adjuntando el pdf con las imágenes----------------------------------------------------------------------------------------------------------------------------------------------------------------\n",
    "            add_pdf(num_sap)\n",
    "            WebDriverWait(driver,20).until(EC.visibility_of_element_located((By.XPATH, f'//div[@class=\"z-listcell-content\"][contains(text(), \"{num_sap}\")]')))\n",
    "                    \n",
    "            #Función de envío----------------------------------------------------------------------------------------------------------------------------------------------------------------------------------\n",
    "            send_notification(USER)\n",
    "                "
   ]
  },
  {
   "cell_type": "code",
   "execution_count": 9,
   "id": "17b4b1db-d862-480b-826d-b4d8e71cf628",
   "metadata": {},
   "outputs": [
    {
     "name": "stderr",
     "output_type": "stream",
     "text": [
      "Enviando notificaciones: 100%|██████████| 3/3 [01:25<00:00, 28.43s/it]\n"
     ]
    }
   ],
   "source": [
    "app('resources/db/database.csv')"
   ]
  },
  {
   "cell_type": "code",
   "execution_count": 10,
   "id": "2660174e-9dba-4520-bd3c-b73bb2539344",
   "metadata": {},
   "outputs": [],
   "source": [
    "#Rendimiento del código\n",
    "#Test \n",
    "#Cantidad de notificaciones: 3\n",
    "#Iteración 1: 4.8 minutos (1.6 minutos por notificación)\n",
    "#Iteración 2: 3.12 minutos (1.04 minutos por notificación)\n",
    "#Iteración 3: 2.46 minutos (49.2 segundos por Dnotificación)\n",
    "#Iteración 4: 1.37 minutos (27.4 segundos por notificación)\n",
    "#Iteración 5: 1.25 minutos (25 segundos por notificación)\n"
   ]
  }
 ],
 "metadata": {
  "kernelspec": {
   "display_name": "Python 3 (ipykernel)",
   "language": "python",
   "name": "python3"
  },
  "language_info": {
   "codemirror_mode": {
    "name": "ipython",
    "version": 3
   },
   "file_extension": ".py",
   "mimetype": "text/x-python",
   "name": "python",
   "nbconvert_exporter": "python",
   "pygments_lexer": "ipython3",
   "version": "3.12.0"
  }
 },
 "nbformat": 4,
 "nbformat_minor": 5
}
