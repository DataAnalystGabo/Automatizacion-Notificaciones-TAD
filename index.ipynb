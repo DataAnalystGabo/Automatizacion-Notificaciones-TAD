{
 "cells": [
  {
   "cell_type": "code",
   "execution_count": 1,
   "id": "736953a7-49cf-49ae-a372-d800c0f1bbf9",
   "metadata": {},
   "outputs": [],
   "source": [
    "import csv\n",
    "import selenium\n",
    "from config import *\n",
    "from time import sleep\n",
    "from selenium import webdriver\n",
    "from pywinauto.keyboard import send_keys\n",
    "from pywinauto.application import Application\n",
    "from selenium.webdriver.common.by import By\n",
    "from selenium.webdriver.common.keys import Keys\n",
    "#from selenium.webdriver.support.ui import WebDriverWait\n",
    "#from selenium.webdriver.support import expected_conditions as EC"
   ]
  },
  {
   "cell_type": "code",
   "execution_count": 2,
   "id": "61d8e8e4-0093-4b1e-8069-3687c8a7b306",
   "metadata": {},
   "outputs": [],
   "source": [
    "#Apertura del navegador\n",
    "driver = webdriver.Chrome()\n",
    "driver.get(url)"
   ]
  },
  {
   "cell_type": "code",
   "execution_count": 3,
   "id": "0ea966ec-7d98-44f2-9d05-ba200f171fdd",
   "metadata": {},
   "outputs": [],
   "source": [
    "#Ingreso al sistema\n",
    "input_username = driver.find_element(By.XPATH, '//input[@placeholder=\"Usuario/Cuil/Cuit\"]')\n",
    "input_password = driver.find_element(By.XPATH, '//input[@placeholder=\"Contraseña\"]')\n",
    "button_loggin  = driver.find_element(By.XPATH, '//button[@class=\"btn btn-default z-button\"]')\n",
    "\n",
    "input_username.send_keys(username)\n",
    "input_password.send_keys(password)\n",
    "button_loggin.click()\n",
    "sleep(3)"
   ]
  },
  {
   "cell_type": "code",
   "execution_count": 4,
   "id": "62b9e65f-da1b-4923-b4c3-f0b3d5cabbe1",
   "metadata": {},
   "outputs": [],
   "source": [
    "#Nueva notificación electrónica\n",
    "notificaciones_electronicas = driver.find_element(By.XPATH, '//li[@title=\"Notificaciones Electronicas\"]')\n",
    "notificaciones_electronicas.click()\n",
    "sleep(10)\n",
    "\n",
    "nueva_notificacion = driver.find_element(By.XPATH, '//li[@title=\"Nueva Notificación\"]')\n",
    "nueva_notificacion.click()"
   ]
  },
  {
   "cell_type": "code",
   "execution_count": 5,
   "id": "57cf6c03-1b5c-4724-86f8-396be8e065c7",
   "metadata": {},
   "outputs": [],
   "source": [
    "#Función que ingresa todas las empresas.\n",
    "def add_companies(companies):\n",
    "    for cuit in companies.values():\n",
    "        input_cuit = driver.find_element(By.XPATH, '//input[@name=\"cuit1\"]')\n",
    "        input_cuit.send_keys(cuit)\n",
    "        button_search = driver.find_elements(By.XPATH, '//td[@class=\"z-row-inner\"]//button[@class=\"z-button\"]')[0]\n",
    "        button_search.click()\n",
    "        button_add   = driver.find_elements(By.XPATH, '//td[@class=\"z-row-inner\"]//button[@class=\"z-button\"]')[1]\n",
    "        button_add.click()\n",
    "        sleep(1)"
   ]
  },
  {
   "cell_type": "code",
   "execution_count": 10,
   "id": "d50a00b2-fc67-496a-8e9b-17bdbda21532",
   "metadata": {},
   "outputs": [],
   "source": [
    "#función que sube el pdf correspondiente.\n",
    "def add_pdf(num_sap):\n",
    "    input_upload_file =  driver.find_elements(By.XPATH, '//span[@class=\"z-radiogroup\"]//span[@class=\"z-radio\"]')[3]\n",
    "    input_upload_file.click()\n",
    "    sleep(1)\n",
    "    \n",
    "    button_add_file = driver.find_elements(By.XPATH, './/i[@class=\"glyphicon glyphicon-plus\"]')[6]\n",
    "    button_add_file.click()\n",
    "    sleep(2)\n",
    "    \n",
    "    app = Application().connect(title_re=\"Abrir\")\n",
    "    #'C:\\Users\\Usuario\\OneDrive\\Escritorio\\DGFU\\010 - Automatizacion Notificaciones TAD\\resources\\images\\'\n",
    "    path_pdf = fr'C:\\Users\\Usuario\\OneDrive\\Escritorio\\DGFU\\010 - Automatizacion Notificaciones TAD\\resources\\images\\{num_sap}'\n",
    "    app.Abrir.Edit.set_text(path_pdf)\n",
    "    send_keys(\"{VK_RETURN}\")"
   ]
  },
  {
   "cell_type": "code",
   "execution_count": 9,
   "id": "c9efcd79-3a7f-4077-9fe9-58b175c75cf3",
   "metadata": {},
   "outputs": [],
   "source": [
    "#Funcion de envio de notificación por cada posición\n",
    "\n",
    "def send_notification(csv_path):\n",
    "    with open(csv_path) as csvfile:\n",
    "        reader = csv.reader(csvfile, delimiter=';')\n",
    "        for row in reader:\n",
    "            num_sap  = row[0]\n",
    "            position = row[1]\n",
    "\n",
    "            add_companies(companies)\n",
    "            sleep(3)\n",
    "        \n",
    "            #Redactando el título y el cuerpo de la notificación.\n",
    "            input_referencia = driver.find_element(By.XPATH, '//div[@class=\"z-hlayout-inner\"]//input[@class=\"z-textbox\"]')\n",
    "            input_referencia.send_keys(f\"S/Faltante {position}\")\n",
    "            \n",
    "            input_cuerpo     = driver.find_element(By.XPATH, '//textarea[@placeholder=\"Ingresar texto de la notificación\"]')\n",
    "            input_cuerpo.send_keys(f\"Por medio de la presente se lo intima a que en el plazo de 72 horas hábiles, desde recibida esta intimación, verifique e informe, conforme Articulo 5 de la Ley 4760, si la anomalía detectada sobre {position}, correspondiente a una cámara con tapa faltante sobre la acera), pertenece a la infraestructura de su empresa. En caso de corresponder, se lo intima en un plazo de 5 días hábiles a proceder a la reposición de tapa y/o anulación de la misma según corresponda, bajo el apercibimiento de aplicar el régimen sancionatorio previstas en la materia en el Régimen de Faltas de la Ciudad Autónoma de Buenos Aires (Ley N° 451). \\n\\n Asimismo, se lo intima a que en igual plazo presente formal descargo con muestras fotográficas en las que se verifique el cumplimiento de lo intimado en el primer párrafo de esta notificación ante la oficina de la Dirección General sita en Av. Martin García 346, 3°piso, en el horario de 10 a 15 hs o, mediante el correo electrónico de la Mesa de Entradas virtual mesaentrada.ssmaurb@buenosaires.gob.ar y gonzalogabrielramirez@buenosaires.gob.ar, todo ello, bajo apercibimiento de proceder al labrado de las correspondientes actas de comprobación, remoción y anulación de las instalaciones descriptas como irregulares. \\n\\n Se hace constar que el riesgo a terceros derivado de las instalaciones en deficiente estado habilita a esta dirección general a proceder cautelarmente respecto de las mismas, tomando la intervención física necesaria.\")\n",
    "            \n",
    "            button_check     = driver.find_elements(By.XPATH, '//tbody[@class=\"z-rows\"]//tr[@class=\"z-row\"]//td[@class=\"z-row-inner\"]//div[@class=\"z-row-content\"]//div[@class=\"z-hlayout\"]//div[@class=\"z-hlayout-inner\"]//button[@class=\"z-button\"]')[0]\n",
    "            button_check.click()\n",
    "\n",
    "            #Adjuntando el pdf con las imágenes.\n",
    "            add_pdf(num_sap)\n",
    "            sleep(5)\n",
    "            \n",
    "            #Seleccionando la opción \"Quiero recibir un aviso cuando la tarea se firme\"\n",
    "            input_aviso = driver.find_elements(By.XPATH, '//div[@class=\"z-window-content\"]//div[@class=\"z-hlayout\"]//div[@class=\"z-hlayout-inner\"]//input[@type=\"checkbox\"]')[1]\n",
    "            input_aviso.click()\n",
    "            \n",
    "            button_send = driver.find_elements(By.XPATH, '//div[@class=\"z-hlayout\"]//div[@class=\"z-hlayout-inner\"]//button[@class=\"z-button\"]')[9]\n",
    "            button_send.click()\n",
    "            sleep(2)\n",
    "            \n",
    "            input_send_username = driver.find_element(By.XPATH, './/input[@placeholder=\"Ingrese el usuario\"]')\n",
    "            input_send_username.send_keys('Lucas Marin( MARINL - DGFU )')\n",
    "            sleep(4)\n",
    "            \n",
    "            button_send_notif = driver.find_element(By.XPATH, './/tbody[@class=\"z-rows\"]//tr[@class=\"GridLayoutNoBorder z-row\"]//td[@class=\"z-row-inner\"]//div[@class=\"z-row-content\"]//button[@class=\"z-button\"]')\n",
    "            button_send_notif.click()\n",
    "            sleep(2)\n",
    "            \n",
    "            button_ok =  driver.find_element(By.XPATH, './/button[@class=\"z-messagebox-button z-button\"]')\n",
    "            button_ok.click()"
   ]
  },
  {
   "cell_type": "code",
   "execution_count": 12,
   "id": "17b4b1db-d862-480b-826d-b4d8e71cf628",
   "metadata": {},
   "outputs": [],
   "source": [
    "send_notification('resources/db/database.csv')"
   ]
  }
 ],
 "metadata": {
  "kernelspec": {
   "display_name": "Python 3 (ipykernel)",
   "language": "python",
   "name": "python3"
  },
  "language_info": {
   "codemirror_mode": {
    "name": "ipython",
    "version": 3
   },
   "file_extension": ".py",
   "mimetype": "text/x-python",
   "name": "python",
   "nbconvert_exporter": "python",
   "pygments_lexer": "ipython3",
   "version": "3.12.0"
  }
 },
 "nbformat": 4,
 "nbformat_minor": 5
}
