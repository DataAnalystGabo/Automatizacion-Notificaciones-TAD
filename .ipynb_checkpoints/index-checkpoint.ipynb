{
 "cells": [
  {
   "cell_type": "code",
   "execution_count": 1,
   "id": "736953a7-49cf-49ae-a372-d800c0f1bbf9",
   "metadata": {},
   "outputs": [],
   "source": [
    "import selenium\n",
    "from config import *\n",
    "from time import sleep\n",
    "from selenium import webdriver\n",
    "from selenium.webdriver.common.by import By\n",
    "from selenium.webdriver.common.keys import Keys\n",
    "from selenium.webdriver.support.ui import WebDriverWait\n",
    "from selenium.webdriver.support import expected_conditions as EC"
   ]
  },
  {
   "cell_type": "code",
   "execution_count": 2,
   "id": "61d8e8e4-0093-4b1e-8069-3687c8a7b306",
   "metadata": {},
   "outputs": [],
   "source": [
    "#Apertura del navegador\n",
    "driver = webdriver.Chrome()\n",
    "driver.get(URL)"
   ]
  },
  {
   "cell_type": "code",
   "execution_count": 3,
   "id": "0ea966ec-7d98-44f2-9d05-ba200f171fdd",
   "metadata": {},
   "outputs": [],
   "source": [
    "#Ingreso al sistema\n",
    "input_username = driver.find_element(By.XPATH, '//input[@placeholder=\"Usuario/Cuil/Cuit\"]')\n",
    "input_password = driver.find_element(By.XPATH, '//input[@placeholder=\"Contraseña\"]')\n",
    "button_loggin  = driver.find_element(By.XPATH, '//button[@class=\"btn btn-default z-button\"]')\n",
    "\n",
    "input_username.send_keys(USERNAME)\n",
    "input_password.send_keys(PASSWORD)\n",
    "button_loggin.click()\n",
    "sleep(3)\n"
   ]
  },
  {
   "cell_type": "code",
   "execution_count": 4,
   "id": "62b9e65f-da1b-4923-b4c3-f0b3d5cabbe1",
   "metadata": {},
   "outputs": [],
   "source": [
    "#Nueva notificación electrónica\n",
    "notificaciones_electronicas = driver.find_element(By.XPATH, '//li[@title=\"Notificaciones Electronicas\"]')\n",
    "notificaciones_electronicas.click()\n",
    "sleep(10)\n",
    "\n",
    "nueva_notificacion = driver.find_element(By.XPATH, '//li[@title=\"Nueva Notificación\"]')\n",
    "nueva_notificacion.click()"
   ]
  },
  {
   "cell_type": "code",
   "execution_count": 15,
   "id": "57cf6c03-1b5c-4724-86f8-396be8e065c7",
   "metadata": {},
   "outputs": [],
   "source": [
    "#Ingresar empresas\n",
    "#Declarando función\n",
    "def search_companies(COMPANIES):\n",
    "    for cuit in COMPANIES.values():\n",
    "        input_cuit = driver.find_element(By.XPATH, '//input[@name=\"cuit1\"]')\n",
    "        input_cuit.send_keys(cuit)\n",
    "        sleep(1)\n",
    "        \n",
    "        button_search = driver.find_elements(By.XPATH, '//td[@class=\"z-row-inner\"]//button[@class=\"z-button\"]')[0]\n",
    "        button_search.click()\n",
    "        sleep(1)\n",
    "        \n",
    "        button_add   = driver.find_elements(By.XPATH, '//td[@class=\"z-row-inner\"]//button[@class=\"z-button\"]')[1]\n",
    "        button_add.click()"
   ]
  },
  {
   "cell_type": "code",
   "execution_count": 17,
   "id": "1f1da2e6-ab98-4fd2-8891-6ad84d499683",
   "metadata": {},
   "outputs": [
    {
     "ename": "ElementClickInterceptedException",
     "evalue": "Message: element click intercepted: Element <button type=\"button\" id=\"vJBP39\" style=\"padding: 0px 8px; border-radius: 3px 0px 0px 3px; height: 20px; width: 59px;\" class=\"z-button\" disabled=\"disabled\">...</button> is not clickable at point (259, 373). Other element would receive the click: <div id=\"vJBP9rt-mask\" class=\"z-modal-mask\" style=\"z-index: 1800; left: 0px; top: 0px; width: 1017px; height: 562px; display: block;\"></div>\n  (Session info: chrome=118.0.5993.71)\nStacktrace:\n\tGetHandleVerifier [0x00007FF743088EF2+54786]\n\t(No symbol) [0x00007FF742FF5612]\n\t(No symbol) [0x00007FF742EAA64B]\n\t(No symbol) [0x00007FF742EF1A6B]\n\t(No symbol) [0x00007FF742EEFE39]\n\t(No symbol) [0x00007FF742EEDC08]\n\t(No symbol) [0x00007FF742EECCC3]\n\t(No symbol) [0x00007FF742EE29CF]\n\t(No symbol) [0x00007FF742F0BE6A]\n\t(No symbol) [0x00007FF742EE22E6]\n\t(No symbol) [0x00007FF742F0C080]\n\t(No symbol) [0x00007FF742F24D02]\n\t(No symbol) [0x00007FF742F0BC43]\n\t(No symbol) [0x00007FF742EE0941]\n\t(No symbol) [0x00007FF742EE1B84]\n\tGetHandleVerifier [0x00007FF7433D7F52+3524194]\n\tGetHandleVerifier [0x00007FF74342D800+3874576]\n\tGetHandleVerifier [0x00007FF743425D7F+3843215]\n\tGetHandleVerifier [0x00007FF743125086+694166]\n\t(No symbol) [0x00007FF743000A88]\n\t(No symbol) [0x00007FF742FFCA94]\n\t(No symbol) [0x00007FF742FFCBC2]\n\t(No symbol) [0x00007FF742FECC83]\n\tBaseThreadInitThunk [0x00007FF91A9426AD+29]\n\tRtlUserThreadStart [0x00007FF91B4EA9F8+40]\n",
     "output_type": "error",
     "traceback": [
      "\u001b[1;31m---------------------------------------------------------------------------\u001b[0m",
      "\u001b[1;31mElementClickInterceptedException\u001b[0m          Traceback (most recent call last)",
      "Cell \u001b[1;32mIn[17], line 2\u001b[0m\n\u001b[0;32m      1\u001b[0m \u001b[38;5;66;03m#Ejecutando función\u001b[39;00m\n\u001b[1;32m----> 2\u001b[0m \u001b[43msearch_companies\u001b[49m\u001b[43m(\u001b[49m\u001b[43mCOMPANIES\u001b[49m\u001b[43m)\u001b[49m\n",
      "Cell \u001b[1;32mIn[15], line 14\u001b[0m, in \u001b[0;36msearch_companies\u001b[1;34m(COMPANIES)\u001b[0m\n\u001b[0;32m     11\u001b[0m sleep(\u001b[38;5;241m1\u001b[39m)\n\u001b[0;32m     13\u001b[0m button_add   \u001b[38;5;241m=\u001b[39m driver\u001b[38;5;241m.\u001b[39mfind_elements(By\u001b[38;5;241m.\u001b[39mXPATH, \u001b[38;5;124m'\u001b[39m\u001b[38;5;124m//td[@class=\u001b[39m\u001b[38;5;124m\"\u001b[39m\u001b[38;5;124mz-row-inner\u001b[39m\u001b[38;5;124m\"\u001b[39m\u001b[38;5;124m]//button[@class=\u001b[39m\u001b[38;5;124m\"\u001b[39m\u001b[38;5;124mz-button\u001b[39m\u001b[38;5;124m\"\u001b[39m\u001b[38;5;124m]\u001b[39m\u001b[38;5;124m'\u001b[39m)[\u001b[38;5;241m1\u001b[39m]\n\u001b[1;32m---> 14\u001b[0m \u001b[43mbutton_add\u001b[49m\u001b[38;5;241;43m.\u001b[39;49m\u001b[43mclick\u001b[49m\u001b[43m(\u001b[49m\u001b[43m)\u001b[49m\n",
      "File \u001b[1;32m~\\AppData\\Local\\Programs\\Python\\Python311\\Lib\\site-packages\\selenium\\webdriver\\remote\\webelement.py:93\u001b[0m, in \u001b[0;36mWebElement.click\u001b[1;34m(self)\u001b[0m\n\u001b[0;32m     91\u001b[0m \u001b[38;5;28;01mdef\u001b[39;00m \u001b[38;5;21mclick\u001b[39m(\u001b[38;5;28mself\u001b[39m) \u001b[38;5;241m-\u001b[39m\u001b[38;5;241m>\u001b[39m \u001b[38;5;28;01mNone\u001b[39;00m:\n\u001b[0;32m     92\u001b[0m \u001b[38;5;250m    \u001b[39m\u001b[38;5;124;03m\"\"\"Clicks the element.\"\"\"\u001b[39;00m\n\u001b[1;32m---> 93\u001b[0m     \u001b[38;5;28;43mself\u001b[39;49m\u001b[38;5;241;43m.\u001b[39;49m\u001b[43m_execute\u001b[49m\u001b[43m(\u001b[49m\u001b[43mCommand\u001b[49m\u001b[38;5;241;43m.\u001b[39;49m\u001b[43mCLICK_ELEMENT\u001b[49m\u001b[43m)\u001b[49m\n",
      "File \u001b[1;32m~\\AppData\\Local\\Programs\\Python\\Python311\\Lib\\site-packages\\selenium\\webdriver\\remote\\webelement.py:394\u001b[0m, in \u001b[0;36mWebElement._execute\u001b[1;34m(self, command, params)\u001b[0m\n\u001b[0;32m    392\u001b[0m     params \u001b[38;5;241m=\u001b[39m {}\n\u001b[0;32m    393\u001b[0m params[\u001b[38;5;124m\"\u001b[39m\u001b[38;5;124mid\u001b[39m\u001b[38;5;124m\"\u001b[39m] \u001b[38;5;241m=\u001b[39m \u001b[38;5;28mself\u001b[39m\u001b[38;5;241m.\u001b[39m_id\n\u001b[1;32m--> 394\u001b[0m \u001b[38;5;28;01mreturn\u001b[39;00m \u001b[38;5;28;43mself\u001b[39;49m\u001b[38;5;241;43m.\u001b[39;49m\u001b[43m_parent\u001b[49m\u001b[38;5;241;43m.\u001b[39;49m\u001b[43mexecute\u001b[49m\u001b[43m(\u001b[49m\u001b[43mcommand\u001b[49m\u001b[43m,\u001b[49m\u001b[43m \u001b[49m\u001b[43mparams\u001b[49m\u001b[43m)\u001b[49m\n",
      "File \u001b[1;32m~\\AppData\\Local\\Programs\\Python\\Python311\\Lib\\site-packages\\selenium\\webdriver\\remote\\webdriver.py:344\u001b[0m, in \u001b[0;36mWebDriver.execute\u001b[1;34m(self, driver_command, params)\u001b[0m\n\u001b[0;32m    342\u001b[0m response \u001b[38;5;241m=\u001b[39m \u001b[38;5;28mself\u001b[39m\u001b[38;5;241m.\u001b[39mcommand_executor\u001b[38;5;241m.\u001b[39mexecute(driver_command, params)\n\u001b[0;32m    343\u001b[0m \u001b[38;5;28;01mif\u001b[39;00m response:\n\u001b[1;32m--> 344\u001b[0m     \u001b[38;5;28;43mself\u001b[39;49m\u001b[38;5;241;43m.\u001b[39;49m\u001b[43merror_handler\u001b[49m\u001b[38;5;241;43m.\u001b[39;49m\u001b[43mcheck_response\u001b[49m\u001b[43m(\u001b[49m\u001b[43mresponse\u001b[49m\u001b[43m)\u001b[49m\n\u001b[0;32m    345\u001b[0m     response[\u001b[38;5;124m\"\u001b[39m\u001b[38;5;124mvalue\u001b[39m\u001b[38;5;124m\"\u001b[39m] \u001b[38;5;241m=\u001b[39m \u001b[38;5;28mself\u001b[39m\u001b[38;5;241m.\u001b[39m_unwrap_value(response\u001b[38;5;241m.\u001b[39mget(\u001b[38;5;124m\"\u001b[39m\u001b[38;5;124mvalue\u001b[39m\u001b[38;5;124m\"\u001b[39m, \u001b[38;5;28;01mNone\u001b[39;00m))\n\u001b[0;32m    346\u001b[0m     \u001b[38;5;28;01mreturn\u001b[39;00m response\n",
      "File \u001b[1;32m~\\AppData\\Local\\Programs\\Python\\Python311\\Lib\\site-packages\\selenium\\webdriver\\remote\\errorhandler.py:229\u001b[0m, in \u001b[0;36mErrorHandler.check_response\u001b[1;34m(self, response)\u001b[0m\n\u001b[0;32m    227\u001b[0m         alert_text \u001b[38;5;241m=\u001b[39m value[\u001b[38;5;124m\"\u001b[39m\u001b[38;5;124malert\u001b[39m\u001b[38;5;124m\"\u001b[39m]\u001b[38;5;241m.\u001b[39mget(\u001b[38;5;124m\"\u001b[39m\u001b[38;5;124mtext\u001b[39m\u001b[38;5;124m\"\u001b[39m)\n\u001b[0;32m    228\u001b[0m     \u001b[38;5;28;01mraise\u001b[39;00m exception_class(message, screen, stacktrace, alert_text)  \u001b[38;5;66;03m# type: ignore[call-arg]  # mypy is not smart enough here\u001b[39;00m\n\u001b[1;32m--> 229\u001b[0m \u001b[38;5;28;01mraise\u001b[39;00m exception_class(message, screen, stacktrace)\n",
      "\u001b[1;31mElementClickInterceptedException\u001b[0m: Message: element click intercepted: Element <button type=\"button\" id=\"vJBP39\" style=\"padding: 0px 8px; border-radius: 3px 0px 0px 3px; height: 20px; width: 59px;\" class=\"z-button\" disabled=\"disabled\">...</button> is not clickable at point (259, 373). Other element would receive the click: <div id=\"vJBP9rt-mask\" class=\"z-modal-mask\" style=\"z-index: 1800; left: 0px; top: 0px; width: 1017px; height: 562px; display: block;\"></div>\n  (Session info: chrome=118.0.5993.71)\nStacktrace:\n\tGetHandleVerifier [0x00007FF743088EF2+54786]\n\t(No symbol) [0x00007FF742FF5612]\n\t(No symbol) [0x00007FF742EAA64B]\n\t(No symbol) [0x00007FF742EF1A6B]\n\t(No symbol) [0x00007FF742EEFE39]\n\t(No symbol) [0x00007FF742EEDC08]\n\t(No symbol) [0x00007FF742EECCC3]\n\t(No symbol) [0x00007FF742EE29CF]\n\t(No symbol) [0x00007FF742F0BE6A]\n\t(No symbol) [0x00007FF742EE22E6]\n\t(No symbol) [0x00007FF742F0C080]\n\t(No symbol) [0x00007FF742F24D02]\n\t(No symbol) [0x00007FF742F0BC43]\n\t(No symbol) [0x00007FF742EE0941]\n\t(No symbol) [0x00007FF742EE1B84]\n\tGetHandleVerifier [0x00007FF7433D7F52+3524194]\n\tGetHandleVerifier [0x00007FF74342D800+3874576]\n\tGetHandleVerifier [0x00007FF743425D7F+3843215]\n\tGetHandleVerifier [0x00007FF743125086+694166]\n\t(No symbol) [0x00007FF743000A88]\n\t(No symbol) [0x00007FF742FFCA94]\n\t(No symbol) [0x00007FF742FFCBC2]\n\t(No symbol) [0x00007FF742FECC83]\n\tBaseThreadInitThunk [0x00007FF91A9426AD+29]\n\tRtlUserThreadStart [0x00007FF91B4EA9F8+40]\n"
     ]
    }
   ],
   "source": [
    "#Ejecutando función\n",
    "search_companies(COMPANIES)"
   ]
  },
  {
   "cell_type": "code",
   "execution_count": 3,
   "id": "985a4128-be14-41a1-8772-eb82f9708e77",
   "metadata": {},
   "outputs": [],
   "source": [
    "#Añadiendo cuerpo\n",
    "header = 'S/Faltante Prueba Python' \n",
    "body   = 'Esta es una prueba automatizada por Python'\n",
    "\n",
    "input_referencia = driver.find_element(By.XPATH, '//div[@class=\"z-hlayout-inner\"]//input[@class=\"z-textbox\"]')\n",
    "input_referencia.send_keys(header)\n",
    "\n",
    "input_cuerpo     = driver.find_element(By.XPATH, '//textarea[@placeholder=\"Ingresar texto de la notificación\"]')\n",
    "input_cuerpo.send_keys(body)\n",
    "\n",
    "button_check     = driver.find_elements(By.XPATH, '//tbody[@class=\"z-rows\"]//tr[@class=\"z-row\"]//td[@class=\"z-row-inner\"]//div[@class=\"z-row-content\"]//div[@class=\"z-hlayout\"]//div[@class=\"z-hlayout-inner\"]//button[@class=\"z-button\"]')[0]\n",
    "button_check.click()\n",
    "\n",
    "#Seleccionando la opción \"Quiero recibir un aviso cuando la tarea se firme\"\n",
    "input_aviso = driver.find_elements(By.XPATH, '//div[@class=\"z-window-content\"]//div[@class=\"z-hlayout\"]//div[@class=\"z-hlayout-inner\"]//input[@type=\"checkbox\"]')[1]\n",
    "input_aviso.click()\n",
    "\n",
    "button_send = driver.find_elements(By.XPATH, '//div[@class=\"z-hlayout\"]//div[@class=\"z-hlayout-inner\"]//button[@class=\"z-button\"]')[9]\n",
    "button_send.click()\n",
    "sleep(2)\n",
    "\n",
    "input_send_username = driver.find_element(By.XPATH, './/input[@placeholder=\"Ingrese el usuario\"]')\n",
    "input_send_username.send_keys('Lucas Marin( MARINL - DGFU )')\n",
    "sleep(4)\n",
    "\n",
    "button_send_notif = driver.find_element(By.XPATH, './/tbody[@class=\"z-rows\"]//tr[@class=\"GridLayoutNoBorder z-row\"]//td[@class=\"z-row-inner\"]//div[@class=\"z-row-content\"]//button[@class=\"z-button\"]')\n",
    "button_send_notif.click()\n",
    "sleep(2)\n",
    "\n",
    "button_ok =  driver.find_element(By.XPATH, './/button[@class=\"z-messagebox-button z-button\"]')\n",
    "button_ok.click()\n"
   ]
  }
 ],
 "metadata": {
  "kernelspec": {
   "display_name": "Python 3 (ipykernel)",
   "language": "python",
   "name": "python3"
  },
  "language_info": {
   "codemirror_mode": {
    "name": "ipython",
    "version": 3
   },
   "file_extension": ".py",
   "mimetype": "text/x-python",
   "name": "python",
   "nbconvert_exporter": "python",
   "pygments_lexer": "ipython3",
   "version": "3.11.4"
  }
 },
 "nbformat": 4,
 "nbformat_minor": 5
}
